{
 "cells": [
  {
   "cell_type": "code",
   "execution_count": 2,
   "metadata": {},
   "outputs": [],
   "source": [
    "import numpy as np\n",
    "import pandas as pd"
   ]
  },
  {
   "cell_type": "code",
   "execution_count": 3,
   "metadata": {},
   "outputs": [],
   "source": [
    "#01. 데이터 불러오기\n",
    "df_2010 = pd.read_csv('data/2010년 드라마.csv',encoding='cp949',engine='python')\n",
    "df_2011 = pd.read_csv('data/2011년 드라마.csv',encoding='cp949',engine='python')\n",
    "df_2012 = pd.read_csv('data/2012년 드라마.csv',encoding='cp949',engine='python')\n",
    "df_2013 = pd.read_csv('data/2013년 드라마.csv',encoding='cp949',engine='python')\n",
    "df_2014 = pd.read_csv('data/2014년 드라마.csv',encoding='cp949',engine='python')\n",
    "df_2015 = pd.read_csv('data/2015년 드라마.csv',encoding='cp949',engine='python')\n",
    "df_2016 = pd.read_csv('data/2016년 드라마.csv',encoding='cp949',engine='python')\n",
    "df_2017 = pd.read_csv('data/2017년 드라마.csv',encoding='cp949',engine='python')\n",
    "df_2018 = pd.read_csv('data/2018년 드라마.csv',encoding='cp949',engine='python')\n",
    "df_2019 = pd.read_csv('data/2019년 드라마.csv',encoding='cp949',engine='python')\n",
    "df_2020 = pd.read_csv('data/2020년 드라마.csv',encoding='cp949',engine='python')"
   ]
  },
  {
   "cell_type": "code",
   "execution_count": 4,
   "metadata": {},
   "outputs": [
    {
     "data": {
      "text/plain": [
       "(84, 30)"
      ]
     },
     "execution_count": 4,
     "metadata": {},
     "output_type": "execute_result"
    }
   ],
   "source": [
    "# df_2010.shape, df_2011.shape, df_2012.shape, df_2013.shape, df_2014.shape, df_2015.shape,\\\n",
    "# df_2016.shape, df_2017.shape, df_2018.shape, df_2019.shape, \n",
    "df_2020.shape"
   ]
  },
  {
   "cell_type": "code",
   "execution_count": 5,
   "metadata": {},
   "outputs": [],
   "source": [
    "df = pd.concat([df_2010,df_2011,df_2012,df_2013,df_2014,df_2015,df_2016,df_2017,df_2018,df_2019,df_2020])"
   ]
  },
  {
   "cell_type": "code",
   "execution_count": 6,
   "metadata": {
    "scrolled": true
   },
   "outputs": [
    {
     "data": {
      "text/plain": [
       "Index(['드라마 이름', '방송사', '방송기간', '총 부작', '요일 및 시간', '내용', '제작사', '시청률',\n",
       "       '등장인물_1', '방송갯수_1', '영화갯수_1', '등장인물_2', '방송갯수_2', '영화갯수_2', '등장인물_3',\n",
       "       '방송갯수_3', '영화갯수_3', '등장인물_4', '방송갯수_4', '영화갯수_4', '등장인물_5', '방송갯수_5',\n",
       "       '영화갯수_5', '연출자이름', '드라마활동건수', '영화활동건수', '작가이름', '드라마활동건수.1', '영화활동건수.1',\n",
       "       '장르', '영화+AD1+E+B:AC'],\n",
       "      dtype='object')"
      ]
     },
     "execution_count": 6,
     "metadata": {},
     "output_type": "execute_result"
    }
   ],
   "source": [
    "df.columns"
   ]
  },
  {
   "cell_type": "code",
   "execution_count": 7,
   "metadata": {},
   "outputs": [],
   "source": [
    "df = df[['드라마 이름','방송사','방송기간','총 부작','요일 및 시간','시청률','방송갯수_1','영화갯수_1','방송갯수_2','영화갯수_2',\\\n",
    "       '방송갯수_3','영화갯수_3','방송갯수_4','영화갯수_4','방송갯수_5','영화갯수_5','드라마활동건수','영화활동건수',\\\n",
    "       '드라마활동건수.1','영화활동건수.1','장르']]"
   ]
  },
  {
   "cell_type": "markdown",
   "metadata": {},
   "source": [
    "### 결측치 "
   ]
  },
  {
   "cell_type": "code",
   "execution_count": 8,
   "metadata": {},
   "outputs": [],
   "source": [
    "# 경고 메세지 숨기기\n",
    "import warnings\n",
    "warnings.filterwarnings(action='ignore') "
   ]
  },
  {
   "cell_type": "code",
   "execution_count": 9,
   "metadata": {},
   "outputs": [],
   "source": [
    "# 결측값 0으로 채우기 : 영화, 방수 수\n",
    "df.iloc[:,5:19] = df.iloc[:,5:19].fillna(0)"
   ]
  },
  {
   "cell_type": "code",
   "execution_count": 10,
   "metadata": {},
   "outputs": [],
   "source": [
    "df.dropna(inplace=True)"
   ]
  },
  {
   "cell_type": "code",
   "execution_count": 11,
   "metadata": {},
   "outputs": [],
   "source": [
    "df = df.reset_index()\n",
    "df = df.drop('index',axis=1)"
   ]
  },
  {
   "cell_type": "markdown",
   "metadata": {},
   "source": [
    "### 강수량, 기온, 대회여부 변수 처리"
   ]
  },
  {
   "cell_type": "code",
   "execution_count": 12,
   "metadata": {},
   "outputs": [],
   "source": [
    "df['start'] = df['방송기간'].str.split('~').str[0]\n",
    "df['end'] = df['방송기간'].str.split('~').str[1]"
   ]
  },
  {
   "cell_type": "code",
   "execution_count": 13,
   "metadata": {},
   "outputs": [],
   "source": [
    "df['start'] = df['start'].str.replace('.','-').str[:10]\n",
    "df['end'] = df['end'].str.replace('.','-').str[:11]"
   ]
  },
  {
   "cell_type": "code",
   "execution_count": 14,
   "metadata": {},
   "outputs": [],
   "source": [
    "rain = pd.read_csv('전국_강수량_2010_2020.csv',skiprows=7, encoding='cp949')\n",
    "temp = pd.read_csv('전국_기온_2010_2020.csv',skiprows=7, encoding='cp949')"
   ]
  },
  {
   "cell_type": "code",
   "execution_count": 15,
   "metadata": {},
   "outputs": [],
   "source": [
    "rain_temp = pd.concat([rain,temp.iloc[:,2:]],axis=1)"
   ]
  },
  {
   "cell_type": "code",
   "execution_count": 16,
   "metadata": {},
   "outputs": [],
   "source": [
    "rain_temp.columns = ['날짜', '지점', '강수량', '평균기온', '최저기온', '최고기온']"
   ]
  },
  {
   "cell_type": "code",
   "execution_count": 17,
   "metadata": {},
   "outputs": [],
   "source": [
    "rain_temp['날짜'] = pd.to_datetime(rain_temp['날짜'])"
   ]
  },
  {
   "cell_type": "code",
   "execution_count": 18,
   "metadata": {},
   "outputs": [
    {
     "data": {
      "text/plain": [
       "드라마 이름       0\n",
       "방송사          0\n",
       "방송기간         0\n",
       "총 부작         0\n",
       "요일 및 시간      0\n",
       "시청률          0\n",
       "방송갯수_1       0\n",
       "영화갯수_1       0\n",
       "방송갯수_2       0\n",
       "영화갯수_2       0\n",
       "방송갯수_3       0\n",
       "영화갯수_3       0\n",
       "방송갯수_4       0\n",
       "영화갯수_4       0\n",
       "방송갯수_5       0\n",
       "영화갯수_5       0\n",
       "드라마활동건수      0\n",
       "영화활동건수       0\n",
       "드라마활동건수.1    0\n",
       "영화활동건수.1     0\n",
       "장르           0\n",
       "start        0\n",
       "end          0\n",
       "dtype: int64"
      ]
     },
     "execution_count": 18,
     "metadata": {},
     "output_type": "execute_result"
    }
   ],
   "source": [
    "df = df.dropna()\n",
    "df.isnull().sum()"
   ]
  },
  {
   "cell_type": "code",
   "execution_count": 19,
   "metadata": {},
   "outputs": [],
   "source": [
    "df = df.reset_index()\n",
    "df = df.drop('index',axis=1)"
   ]
  },
  {
   "cell_type": "code",
   "execution_count": 20,
   "metadata": {},
   "outputs": [],
   "source": [
    "# 대회 정보\n",
    "com_info = pd.DataFrame (\n",
    "    data={'start': ['2018-08-18','2018-06-14','2018-02-09','2016-08-05','2014-09-19','2014-06-12',\n",
    "                   '2014-02-07','2012-07-27','2010-11-12','2010-06-11','2010-02-12'],\n",
    "          'end' : ['2018-09-02','2018-07-15','2018-02-25','2016-08-21','2014-10-04','2014-07-13',\n",
    "                  '2014-02-23','2012-08-12','2010-11-27','2010-07-11','2010-02-28']},\n",
    "    index=['제18회 자카르타-팔렘방 아시안게임','2018 러시아 월드컵','제23회 대한민국 평창 동계 올림픽',\n",
    "           '제31회 리우데자네이루 올림픽','제17회 인천 아시안게임','2014 브라질 월드컵',\n",
    "           '제22회 소치 동계올림픽','제30회 런던 올림픽','제16회 광저우 아시안게임',\n",
    "           '2010 남아프리카공화국 월드컵','제21회 밴쿠버 동계올림픽'],\n",
    "     columns=['start','end'])"
   ]
  },
  {
   "cell_type": "code",
   "execution_count": 21,
   "metadata": {},
   "outputs": [
    {
     "data": {
      "text/html": [
       "<div>\n",
       "<style scoped>\n",
       "    .dataframe tbody tr th:only-of-type {\n",
       "        vertical-align: middle;\n",
       "    }\n",
       "\n",
       "    .dataframe tbody tr th {\n",
       "        vertical-align: top;\n",
       "    }\n",
       "\n",
       "    .dataframe thead th {\n",
       "        text-align: right;\n",
       "    }\n",
       "</style>\n",
       "<table border=\"1\" class=\"dataframe\">\n",
       "  <thead>\n",
       "    <tr style=\"text-align: right;\">\n",
       "      <th></th>\n",
       "      <th>start</th>\n",
       "      <th>end</th>\n",
       "    </tr>\n",
       "  </thead>\n",
       "  <tbody>\n",
       "    <tr>\n",
       "      <th>제18회 자카르타-팔렘방 아시안게임</th>\n",
       "      <td>2018-08-18</td>\n",
       "      <td>2018-09-02</td>\n",
       "    </tr>\n",
       "    <tr>\n",
       "      <th>2018 러시아 월드컵</th>\n",
       "      <td>2018-06-14</td>\n",
       "      <td>2018-07-15</td>\n",
       "    </tr>\n",
       "    <tr>\n",
       "      <th>제23회 대한민국 평창 동계 올림픽</th>\n",
       "      <td>2018-02-09</td>\n",
       "      <td>2018-02-25</td>\n",
       "    </tr>\n",
       "    <tr>\n",
       "      <th>제31회 리우데자네이루 올림픽</th>\n",
       "      <td>2016-08-05</td>\n",
       "      <td>2016-08-21</td>\n",
       "    </tr>\n",
       "    <tr>\n",
       "      <th>제17회 인천 아시안게임</th>\n",
       "      <td>2014-09-19</td>\n",
       "      <td>2014-10-04</td>\n",
       "    </tr>\n",
       "    <tr>\n",
       "      <th>2014 브라질 월드컵</th>\n",
       "      <td>2014-06-12</td>\n",
       "      <td>2014-07-13</td>\n",
       "    </tr>\n",
       "    <tr>\n",
       "      <th>제22회 소치 동계올림픽</th>\n",
       "      <td>2014-02-07</td>\n",
       "      <td>2014-02-23</td>\n",
       "    </tr>\n",
       "    <tr>\n",
       "      <th>제30회 런던 올림픽</th>\n",
       "      <td>2012-07-27</td>\n",
       "      <td>2012-08-12</td>\n",
       "    </tr>\n",
       "    <tr>\n",
       "      <th>제16회 광저우 아시안게임</th>\n",
       "      <td>2010-11-12</td>\n",
       "      <td>2010-11-27</td>\n",
       "    </tr>\n",
       "    <tr>\n",
       "      <th>2010 남아프리카공화국 월드컵</th>\n",
       "      <td>2010-06-11</td>\n",
       "      <td>2010-07-11</td>\n",
       "    </tr>\n",
       "    <tr>\n",
       "      <th>제21회 밴쿠버 동계올림픽</th>\n",
       "      <td>2010-02-12</td>\n",
       "      <td>2010-02-28</td>\n",
       "    </tr>\n",
       "  </tbody>\n",
       "</table>\n",
       "</div>"
      ],
      "text/plain": [
       "                          start         end\n",
       "제18회 자카르타-팔렘방 아시안게임  2018-08-18  2018-09-02\n",
       "2018 러시아 월드컵         2018-06-14  2018-07-15\n",
       "제23회 대한민국 평창 동계 올림픽  2018-02-09  2018-02-25\n",
       "제31회 리우데자네이루 올림픽     2016-08-05  2016-08-21\n",
       "제17회 인천 아시안게임        2014-09-19  2014-10-04\n",
       "2014 브라질 월드컵         2014-06-12  2014-07-13\n",
       "제22회 소치 동계올림픽        2014-02-07  2014-02-23\n",
       "제30회 런던 올림픽          2012-07-27  2012-08-12\n",
       "제16회 광저우 아시안게임       2010-11-12  2010-11-27\n",
       "2010 남아프리카공화국 월드컵    2010-06-11  2010-07-11\n",
       "제21회 밴쿠버 동계올림픽       2010-02-12  2010-02-28"
      ]
     },
     "execution_count": 21,
     "metadata": {},
     "output_type": "execute_result"
    }
   ],
   "source": [
    "com_info"
   ]
  },
  {
   "cell_type": "code",
   "execution_count": 22,
   "metadata": {},
   "outputs": [],
   "source": [
    "com_info['start'] = pd.to_datetime(com_info['start'])\n",
    "com_info['end'] = pd.to_datetime(com_info['end'])"
   ]
  },
  {
   "cell_type": "code",
   "execution_count": 23,
   "metadata": {},
   "outputs": [],
   "source": [
    "competition = []\n",
    "for n in range(0,11) :\n",
    "    competition.append(pd.date_range(start=com_info['start'][n], end=com_info['end'][n]))\n",
    "# competition"
   ]
  },
  {
   "cell_type": "code",
   "execution_count": 24,
   "metadata": {},
   "outputs": [],
   "source": [
    "df['start'] = pd.to_datetime(df['start'])\n",
    "df['end'] = pd.to_datetime(df['end'])\n",
    "\n",
    "df['강수량'] = None\n",
    "df['기온'] = None\n",
    "df['스포츠 대회'] = None\n",
    "# 드라마 개수\n",
    "for i in range(0,len(df)) : \n",
    "#     print(i)\n",
    "    dd = pd.date_range(start=df['start'][i], end=df['end'][i])\n",
    "    \n",
    "    df['강수량'][i] = np.mean(rain_temp[rain_temp['날짜'].isin(dd)==True]['강수량'])\n",
    "    df['기온'][i] = np.mean(rain_temp[rain_temp['날짜'].isin(dd)==True]['평균기온'])\n",
    "    \n",
    "    val = sum(competition[0].isin(dd)==True) + sum(competition[1].isin(dd)==True) + sum(competition[3].isin(dd)==True ) + \\\n",
    "          sum(competition[4].isin(dd)==True) + sum(competition[5].isin(dd)==True) + sum(competition[6].isin(dd)==True) + \\\n",
    "          sum(competition[7].isin(dd)==True) + sum(competition[8].isin(dd)==True) + sum(competition[9].isin(dd)==True) + \\\n",
    "          sum(competition[10].isin(dd)==True) >= 1   \n",
    "#     print(val)\n",
    "    if val == True : \n",
    "        df['스포츠 대회'][i] = 1\n",
    "    else : \n",
    "        df['스포츠 대회'][i] = 0"
   ]
  },
  {
   "cell_type": "markdown",
   "metadata": {},
   "source": [
    "### 전처리\n",
    "- 총 부작 : 연속형\n",
    "- 배우 5명 방송, 영화 평균\n",
    "- 더미변수 : 방송사, 요일및시간, 장르"
   ]
  },
  {
   "cell_type": "code",
   "execution_count": 25,
   "metadata": {},
   "outputs": [],
   "source": [
    "df['총 부작'] = df['총 부작'].str.replace('부작','').astype(int)"
   ]
  },
  {
   "cell_type": "code",
   "execution_count": 26,
   "metadata": {},
   "outputs": [],
   "source": [
    "df['배우_방송'] = np.mean(df[['방송갯수_1','방송갯수_2','방송갯수_3','방송갯수_4','방송갯수_5']],axis=1)\n",
    "df['배우_영화'] = np.mean(df[['영화갯수_1','영화갯수_2','영화갯수_3','영화갯수_4','영화갯수_5']],axis=1)"
   ]
  },
  {
   "cell_type": "code",
   "execution_count": 27,
   "metadata": {
    "scrolled": true
   },
   "outputs": [],
   "source": [
    "df['시청률'] = df['시청률'].str[1:-2]\n",
    "# df['시청률'] "
   ]
  },
  {
   "cell_type": "code",
   "execution_count": 28,
   "metadata": {},
   "outputs": [
    {
     "data": {
      "text/plain": [
       "(Int64Index([315, 350], dtype='int64'),)"
      ]
     },
     "execution_count": 28,
     "metadata": {},
     "output_type": "execute_result"
    }
   ],
   "source": [
    "df.index[df['시청률'] == ''],"
   ]
  },
  {
   "cell_type": "code",
   "execution_count": 29,
   "metadata": {},
   "outputs": [],
   "source": [
    "df.drop(df.index[df['시청률'] == ''],inplace=True)"
   ]
  },
  {
   "cell_type": "code",
   "execution_count": 30,
   "metadata": {},
   "outputs": [],
   "source": [
    "df = df.reset_index()\n",
    "df = df.drop('index',axis=1)"
   ]
  },
  {
   "cell_type": "code",
   "execution_count": 32,
   "metadata": {
    "scrolled": true
   },
   "outputs": [],
   "source": [
    "# # 시청률 평균 => 리스트에 있는 값들을 평균내기\n",
    "# df['평균시청률'] = None\n",
    "# # df['시청률'] = df['시청률'].str[1:-2]\n",
    "\n",
    "# for i in range(0,len(df)) : \n",
    "#     df['평균시청률'][i] = np.mean(list(map(float,df['시청률'][i].replace(\"'\",\"\").split(','))))"
   ]
  },
  {
   "cell_type": "code",
   "execution_count": 342,
   "metadata": {},
   "outputs": [
    {
     "data": {
      "text/plain": [
       "0      9.0', '9.0', '9.6', '11.5', '10.4', '8.2', '9....\n",
       "1      11.8', '12.0', '11.9', '12.9', '11.2', '11.6',...\n",
       "2      43.9', '41.9', '40.8', '42.9', '38.1', '40.0',...\n",
       "3      16.7', '15.2', '15.3', '14.6', '17.0', '14.6',...\n",
       "4      10.1', '10.2', '10.0', '10.2', '9.5', '9.0', '...\n",
       "                             ...                        \n",
       "831    5.9', '6.1', '5.4', '6.5', '5.7', '5.8', '6.1'...\n",
       "832    4.7', '5.1', '6.2', '6.9', '5.2', '5.3', '6.1'...\n",
       "833    2.5', '2.5', '3.7', '3.5', '3.0', '3.6', '4.2'...\n",
       "834    2.5', '3.7', '3.1', '4.2', '3.3', '4.5', '3.2'...\n",
       "835    14.9', '18.0', '17.2', '19.9', '17.6', '18.6',...\n",
       "Name: 시청률, Length: 836, dtype: object"
      ]
     },
     "execution_count": 342,
     "metadata": {},
     "output_type": "execute_result"
    }
   ],
   "source": [
    "df['시청률']"
   ]
  },
  {
   "cell_type": "code",
   "execution_count": 306,
   "metadata": {},
   "outputs": [],
   "source": [
    "df['평균시청률'] = df['평균시청률'].astype(float)"
   ]
  },
  {
   "cell_type": "code",
   "execution_count": 307,
   "metadata": {
    "scrolled": true
   },
   "outputs": [
    {
     "data": {
      "text/plain": [
       "Index(['드라마 이름', '방송사', '방송기간', '총 부작', '요일 및 시간', '시청률', '방송갯수_1', '영화갯수_1',\n",
       "       '방송갯수_2', '영화갯수_2', '방송갯수_3', '영화갯수_3', '방송갯수_4', '영화갯수_4', '방송갯수_5',\n",
       "       '영화갯수_5', '드라마활동건수', '영화활동건수', '드라마활동건수.1', '영화활동건수.1', '장르', 'start',\n",
       "       'end', '강수량', '기온', '스포츠 대회', '배우_방송', '배우_영화', '평균시청률'],\n",
       "      dtype='object')"
      ]
     },
     "execution_count": 307,
     "metadata": {},
     "output_type": "execute_result"
    }
   ],
   "source": [
    "df.columns"
   ]
  },
  {
   "cell_type": "code",
   "execution_count": 1,
   "metadata": {
    "scrolled": true
   },
   "outputs": [],
   "source": [
    "# df = df[['방송사','총 부작','요일 및 시간','배우_방송','배우_영화','드라마활동건수','영화활동건수','드라마활동건수.1',\n",
    "#          '영화활동건수.1','장르','평균시청률']]\n",
    "# df.columns = ['방송사','부작','요일시간','배우_방송','배우_영화','연출_드라마','연출_영화','작가_드라마',\n",
    "#               '작가_영화','장르','평균시청률']"
   ]
  },
  {
   "cell_type": "code",
   "execution_count": 309,
   "metadata": {},
   "outputs": [
    {
     "data": {
      "text/html": [
       "<div>\n",
       "<style scoped>\n",
       "    .dataframe tbody tr th:only-of-type {\n",
       "        vertical-align: middle;\n",
       "    }\n",
       "\n",
       "    .dataframe tbody tr th {\n",
       "        vertical-align: top;\n",
       "    }\n",
       "\n",
       "    .dataframe thead th {\n",
       "        text-align: right;\n",
       "    }\n",
       "</style>\n",
       "<table border=\"1\" class=\"dataframe\">\n",
       "  <thead>\n",
       "    <tr style=\"text-align: right;\">\n",
       "      <th></th>\n",
       "      <th>방송사</th>\n",
       "      <th>부작</th>\n",
       "      <th>요일시간</th>\n",
       "      <th>배우_방송</th>\n",
       "      <th>배우_영화</th>\n",
       "      <th>연출_드라마</th>\n",
       "      <th>연출_영화</th>\n",
       "      <th>작가_드라마</th>\n",
       "      <th>작가_영화</th>\n",
       "      <th>장르</th>\n",
       "      <th>평균시청률</th>\n",
       "    </tr>\n",
       "  </thead>\n",
       "  <tbody>\n",
       "    <tr>\n",
       "      <th>0</th>\n",
       "      <td>MBC</td>\n",
       "      <td>210</td>\n",
       "      <td>22B</td>\n",
       "      <td>38.6</td>\n",
       "      <td>8.8</td>\n",
       "      <td>13.0</td>\n",
       "      <td>0.0</td>\n",
       "      <td>11.0</td>\n",
       "      <td>1.0</td>\n",
       "      <td>시트콤</td>\n",
       "      <td>9.510000</td>\n",
       "    </tr>\n",
       "    <tr>\n",
       "      <th>1</th>\n",
       "      <td>KBS1</td>\n",
       "      <td>60</td>\n",
       "      <td>24C</td>\n",
       "      <td>29.8</td>\n",
       "      <td>8.0</td>\n",
       "      <td>10.0</td>\n",
       "      <td>0.0</td>\n",
       "      <td>12.0</td>\n",
       "      <td>1.0</td>\n",
       "      <td>사극</td>\n",
       "      <td>10.943333</td>\n",
       "    </tr>\n",
       "    <tr>\n",
       "      <th>2</th>\n",
       "      <td>KBS1</td>\n",
       "      <td>159</td>\n",
       "      <td>22B</td>\n",
       "      <td>28.0</td>\n",
       "      <td>6.2</td>\n",
       "      <td>12.0</td>\n",
       "      <td>0.0</td>\n",
       "      <td>8.0</td>\n",
       "      <td>0.0</td>\n",
       "      <td>드라마</td>\n",
       "      <td>39.346667</td>\n",
       "    </tr>\n",
       "    <tr>\n",
       "      <th>3</th>\n",
       "      <td>SBS</td>\n",
       "      <td>124</td>\n",
       "      <td>22B</td>\n",
       "      <td>43.0</td>\n",
       "      <td>14.2</td>\n",
       "      <td>14.0</td>\n",
       "      <td>0.0</td>\n",
       "      <td>8.0</td>\n",
       "      <td>0.0</td>\n",
       "      <td>드라마</td>\n",
       "      <td>13.793333</td>\n",
       "    </tr>\n",
       "    <tr>\n",
       "      <th>4</th>\n",
       "      <td>KBS2</td>\n",
       "      <td>162</td>\n",
       "      <td>22A</td>\n",
       "      <td>20.0</td>\n",
       "      <td>10.4</td>\n",
       "      <td>10.0</td>\n",
       "      <td>0.0</td>\n",
       "      <td>5.0</td>\n",
       "      <td>5.0</td>\n",
       "      <td>코메디, 멜로, 드라마</td>\n",
       "      <td>9.483333</td>\n",
       "    </tr>\n",
       "    <tr>\n",
       "      <th>...</th>\n",
       "      <td>...</td>\n",
       "      <td>...</td>\n",
       "      <td>...</td>\n",
       "      <td>...</td>\n",
       "      <td>...</td>\n",
       "      <td>...</td>\n",
       "      <td>...</td>\n",
       "      <td>...</td>\n",
       "      <td>...</td>\n",
       "      <td>...</td>\n",
       "      <td>...</td>\n",
       "    </tr>\n",
       "    <tr>\n",
       "      <th>831</th>\n",
       "      <td>tvN</td>\n",
       "      <td>16</td>\n",
       "      <td>24C</td>\n",
       "      <td>21.0</td>\n",
       "      <td>6.2</td>\n",
       "      <td>6.0</td>\n",
       "      <td>0.0</td>\n",
       "      <td>3.0</td>\n",
       "      <td>0.0</td>\n",
       "      <td>판타지</td>\n",
       "      <td>NaN</td>\n",
       "    </tr>\n",
       "    <tr>\n",
       "      <th>832</th>\n",
       "      <td>KBS2</td>\n",
       "      <td>32</td>\n",
       "      <td>9C</td>\n",
       "      <td>18.2</td>\n",
       "      <td>10.0</td>\n",
       "      <td>19.0</td>\n",
       "      <td>2.0</td>\n",
       "      <td>2.0</td>\n",
       "      <td>0.0</td>\n",
       "      <td>메디컬, 로맨스</td>\n",
       "      <td>NaN</td>\n",
       "    </tr>\n",
       "    <tr>\n",
       "      <th>833</th>\n",
       "      <td>tvN</td>\n",
       "      <td>12</td>\n",
       "      <td>3C</td>\n",
       "      <td>26.0</td>\n",
       "      <td>16.4</td>\n",
       "      <td>3.0</td>\n",
       "      <td>12.0</td>\n",
       "      <td>2.0</td>\n",
       "      <td>19.0</td>\n",
       "      <td>서스펜스</td>\n",
       "      <td>NaN</td>\n",
       "    </tr>\n",
       "    <tr>\n",
       "      <th>834</th>\n",
       "      <td>MBC</td>\n",
       "      <td>32</td>\n",
       "      <td>9C</td>\n",
       "      <td>34.4</td>\n",
       "      <td>12.4</td>\n",
       "      <td>9.0</td>\n",
       "      <td>0.0</td>\n",
       "      <td>3.0</td>\n",
       "      <td>0.0</td>\n",
       "      <td>수사물</td>\n",
       "      <td>NaN</td>\n",
       "    </tr>\n",
       "    <tr>\n",
       "      <th>835</th>\n",
       "      <td>SBS</td>\n",
       "      <td>16</td>\n",
       "      <td>3C</td>\n",
       "      <td>11.6</td>\n",
       "      <td>9.6</td>\n",
       "      <td>16.0</td>\n",
       "      <td>0.0</td>\n",
       "      <td>17.0</td>\n",
       "      <td>0.0</td>\n",
       "      <td>메디컬, 로맨스</td>\n",
       "      <td>NaN</td>\n",
       "    </tr>\n",
       "  </tbody>\n",
       "</table>\n",
       "<p>836 rows × 11 columns</p>\n",
       "</div>"
      ],
      "text/plain": [
       "      방송사   부작 요일시간  배우_방송  배우_영화  연출_드라마  연출_영화  작가_드라마  작가_영화            장르  \\\n",
       "0     MBC  210  22B   38.6    8.8    13.0    0.0    11.0    1.0           시트콤   \n",
       "1    KBS1   60  24C   29.8    8.0    10.0    0.0    12.0    1.0            사극   \n",
       "2    KBS1  159  22B   28.0    6.2    12.0    0.0     8.0    0.0           드라마   \n",
       "3     SBS  124  22B   43.0   14.2    14.0    0.0     8.0    0.0           드라마   \n",
       "4    KBS2  162  22A   20.0   10.4    10.0    0.0     5.0    5.0  코메디, 멜로, 드라마   \n",
       "..    ...  ...  ...    ...    ...     ...    ...     ...    ...           ...   \n",
       "831   tvN   16  24C   21.0    6.2     6.0    0.0     3.0    0.0           판타지   \n",
       "832  KBS2   32   9C   18.2   10.0    19.0    2.0     2.0    0.0      메디컬, 로맨스   \n",
       "833   tvN   12   3C   26.0   16.4     3.0   12.0     2.0   19.0          서스펜스   \n",
       "834   MBC   32   9C   34.4   12.4     9.0    0.0     3.0    0.0           수사물   \n",
       "835   SBS   16   3C   11.6    9.6    16.0    0.0    17.0    0.0      메디컬, 로맨스   \n",
       "\n",
       "         평균시청률  \n",
       "0     9.510000  \n",
       "1    10.943333  \n",
       "2    39.346667  \n",
       "3    13.793333  \n",
       "4     9.483333  \n",
       "..         ...  \n",
       "831        NaN  \n",
       "832        NaN  \n",
       "833        NaN  \n",
       "834        NaN  \n",
       "835        NaN  \n",
       "\n",
       "[836 rows x 11 columns]"
      ]
     },
     "execution_count": 309,
     "metadata": {},
     "output_type": "execute_result"
    }
   ],
   "source": [
    "df"
   ]
  },
  {
   "cell_type": "code",
   "execution_count": 269,
   "metadata": {
    "scrolled": false
   },
   "outputs": [
    {
     "name": "stdout",
     "output_type": "stream",
     "text": [
      "<class 'pandas.core.frame.DataFrame'>\n",
      "RangeIndex: 978 entries, 0 to 977\n",
      "Data columns (total 11 columns):\n",
      " #   Column  Non-Null Count  Dtype  \n",
      "---  ------  --------------  -----  \n",
      " 0   방송사     978 non-null    object \n",
      " 1   부작      978 non-null    int32  \n",
      " 2   요일시간    978 non-null    object \n",
      " 3   배우_방송   978 non-null    float64\n",
      " 4   배우_영화   978 non-null    float64\n",
      " 5   연출_드라마  978 non-null    float64\n",
      " 6   연출_영화   978 non-null    float64\n",
      " 7   작가_드라마  978 non-null    float64\n",
      " 8   작가_영화   978 non-null    float64\n",
      " 9   장르      978 non-null    object \n",
      " 10  평균시청률   978 non-null    float64\n",
      "dtypes: float64(7), int32(1), object(3)\n",
      "memory usage: 80.4+ KB\n"
     ]
    }
   ],
   "source": [
    "df.info()"
   ]
  },
  {
   "cell_type": "markdown",
   "metadata": {},
   "source": [
    "### 더미화"
   ]
  },
  {
   "cell_type": "code",
   "execution_count": 11,
   "metadata": {},
   "outputs": [],
   "source": [
    "drama_genre_set = sorted(set.union(*(set(x.split(',')) for x in df.장르)))\n",
    "drama_time_set = pd.get_dummies(df['요일시간'], prefix = '요일시간')\n",
    "drama_broadcast = pd.get_dummies(df['방송사'], prefix = '방송사')"
   ]
  },
  {
   "cell_type": "code",
   "execution_count": 12,
   "metadata": {},
   "outputs": [],
   "source": [
    "indicator_mat = pd.DataFrame(np.zeros((len(df), len(drama_genre_set))),columns=drama_genre_set)"
   ]
  },
  {
   "cell_type": "code",
   "execution_count": 13,
   "metadata": {},
   "outputs": [],
   "source": [
    "for i, genre in enumerate(df.장르):\n",
    "#     print(i,genre)\n",
    "    indicator_mat.loc[i, genre.split(',')]=1"
   ]
  },
  {
   "cell_type": "code",
   "execution_count": 14,
   "metadata": {},
   "outputs": [],
   "source": [
    "drama_mat = pd.concat([df[['평균시청률','배우_방송','배우_영화','연출_드라마','연출_영화','작가_드라마',\n",
    "                          '작가_영화','부작']],drama_time_set,drama_broadcast],axis=1)\n",
    "drama_mat = drama_mat.join(indicator_mat.add_prefix('genre_'))"
   ]
  },
  {
   "cell_type": "code",
   "execution_count": 167,
   "metadata": {
    "scrolled": true
   },
   "outputs": [
    {
     "data": {
      "text/html": [
       "<div>\n",
       "<style scoped>\n",
       "    .dataframe tbody tr th:only-of-type {\n",
       "        vertical-align: middle;\n",
       "    }\n",
       "\n",
       "    .dataframe tbody tr th {\n",
       "        vertical-align: top;\n",
       "    }\n",
       "\n",
       "    .dataframe thead th {\n",
       "        text-align: right;\n",
       "    }\n",
       "</style>\n",
       "<table border=\"1\" class=\"dataframe\">\n",
       "  <thead>\n",
       "    <tr style=\"text-align: right;\">\n",
       "      <th></th>\n",
       "      <th>평균시청률</th>\n",
       "      <th>배우_방송</th>\n",
       "      <th>배우_영화</th>\n",
       "      <th>연출_드라마</th>\n",
       "      <th>연출_영화</th>\n",
       "      <th>작가_드라마</th>\n",
       "      <th>작가_영화</th>\n",
       "      <th>부작</th>\n",
       "      <th>요일시간_10C</th>\n",
       "      <th>요일시간_11C</th>\n",
       "      <th>...</th>\n",
       "      <th>genre_사극</th>\n",
       "      <th>genre_서스펜스</th>\n",
       "      <th>genre_스릴러</th>\n",
       "      <th>genre_액션</th>\n",
       "      <th>genre_청춘</th>\n",
       "      <th>genre_추리</th>\n",
       "      <th>genre_코메디</th>\n",
       "      <th>genre_판타지</th>\n",
       "      <th>genre_하이틴</th>\n",
       "      <th>genre_휴먼</th>\n",
       "    </tr>\n",
       "  </thead>\n",
       "  <tbody>\n",
       "    <tr>\n",
       "      <th>0</th>\n",
       "      <td>7.283333</td>\n",
       "      <td>17.400000</td>\n",
       "      <td>5.4</td>\n",
       "      <td>13.0</td>\n",
       "      <td>1.0</td>\n",
       "      <td>0.0</td>\n",
       "      <td>0.0</td>\n",
       "      <td>123</td>\n",
       "      <td>0</td>\n",
       "      <td>0</td>\n",
       "      <td>...</td>\n",
       "      <td>0.0</td>\n",
       "      <td>0.0</td>\n",
       "      <td>0.0</td>\n",
       "      <td>0.0</td>\n",
       "      <td>0.0</td>\n",
       "      <td>0.0</td>\n",
       "      <td>0.0</td>\n",
       "      <td>0.0</td>\n",
       "      <td>0.0</td>\n",
       "      <td>0.0</td>\n",
       "    </tr>\n",
       "    <tr>\n",
       "      <th>1</th>\n",
       "      <td>20.516667</td>\n",
       "      <td>20.800000</td>\n",
       "      <td>3.4</td>\n",
       "      <td>4.0</td>\n",
       "      <td>1.0</td>\n",
       "      <td>0.0</td>\n",
       "      <td>0.0</td>\n",
       "      <td>124</td>\n",
       "      <td>0</td>\n",
       "      <td>0</td>\n",
       "      <td>...</td>\n",
       "      <td>0.0</td>\n",
       "      <td>0.0</td>\n",
       "      <td>0.0</td>\n",
       "      <td>0.0</td>\n",
       "      <td>0.0</td>\n",
       "      <td>0.0</td>\n",
       "      <td>0.0</td>\n",
       "      <td>0.0</td>\n",
       "      <td>0.0</td>\n",
       "      <td>0.0</td>\n",
       "    </tr>\n",
       "    <tr>\n",
       "      <th>2</th>\n",
       "      <td>39.276667</td>\n",
       "      <td>20.400000</td>\n",
       "      <td>3.8</td>\n",
       "      <td>15.0</td>\n",
       "      <td>0.0</td>\n",
       "      <td>7.0</td>\n",
       "      <td>0.0</td>\n",
       "      <td>106</td>\n",
       "      <td>0</td>\n",
       "      <td>0</td>\n",
       "      <td>...</td>\n",
       "      <td>0.0</td>\n",
       "      <td>0.0</td>\n",
       "      <td>0.0</td>\n",
       "      <td>0.0</td>\n",
       "      <td>0.0</td>\n",
       "      <td>0.0</td>\n",
       "      <td>1.0</td>\n",
       "      <td>0.0</td>\n",
       "      <td>0.0</td>\n",
       "      <td>0.0</td>\n",
       "    </tr>\n",
       "    <tr>\n",
       "      <th>3</th>\n",
       "      <td>13.420000</td>\n",
       "      <td>41.800000</td>\n",
       "      <td>8.4</td>\n",
       "      <td>5.0</td>\n",
       "      <td>0.0</td>\n",
       "      <td>5.0</td>\n",
       "      <td>0.0</td>\n",
       "      <td>80</td>\n",
       "      <td>0</td>\n",
       "      <td>0</td>\n",
       "      <td>...</td>\n",
       "      <td>0.0</td>\n",
       "      <td>0.0</td>\n",
       "      <td>0.0</td>\n",
       "      <td>0.0</td>\n",
       "      <td>0.0</td>\n",
       "      <td>0.0</td>\n",
       "      <td>0.0</td>\n",
       "      <td>0.0</td>\n",
       "      <td>0.0</td>\n",
       "      <td>0.0</td>\n",
       "    </tr>\n",
       "    <tr>\n",
       "      <th>4</th>\n",
       "      <td>13.906667</td>\n",
       "      <td>21.200000</td>\n",
       "      <td>8.8</td>\n",
       "      <td>12.0</td>\n",
       "      <td>0.0</td>\n",
       "      <td>13.0</td>\n",
       "      <td>0.0</td>\n",
       "      <td>52</td>\n",
       "      <td>0</td>\n",
       "      <td>0</td>\n",
       "      <td>...</td>\n",
       "      <td>1.0</td>\n",
       "      <td>1.0</td>\n",
       "      <td>0.0</td>\n",
       "      <td>0.0</td>\n",
       "      <td>0.0</td>\n",
       "      <td>0.0</td>\n",
       "      <td>0.0</td>\n",
       "      <td>0.0</td>\n",
       "      <td>0.0</td>\n",
       "      <td>0.0</td>\n",
       "    </tr>\n",
       "    <tr>\n",
       "      <th>...</th>\n",
       "      <td>...</td>\n",
       "      <td>...</td>\n",
       "      <td>...</td>\n",
       "      <td>...</td>\n",
       "      <td>...</td>\n",
       "      <td>...</td>\n",
       "      <td>...</td>\n",
       "      <td>...</td>\n",
       "      <td>...</td>\n",
       "      <td>...</td>\n",
       "      <td>...</td>\n",
       "      <td>...</td>\n",
       "      <td>...</td>\n",
       "      <td>...</td>\n",
       "      <td>...</td>\n",
       "      <td>...</td>\n",
       "      <td>...</td>\n",
       "      <td>...</td>\n",
       "      <td>...</td>\n",
       "      <td>...</td>\n",
       "      <td>...</td>\n",
       "    </tr>\n",
       "    <tr>\n",
       "      <th>104</th>\n",
       "      <td>4.012500</td>\n",
       "      <td>24.200000</td>\n",
       "      <td>4.4</td>\n",
       "      <td>7.0</td>\n",
       "      <td>0.0</td>\n",
       "      <td>0.0</td>\n",
       "      <td>0.0</td>\n",
       "      <td>16</td>\n",
       "      <td>0</td>\n",
       "      <td>0</td>\n",
       "      <td>...</td>\n",
       "      <td>0.0</td>\n",
       "      <td>0.0</td>\n",
       "      <td>0.0</td>\n",
       "      <td>0.0</td>\n",
       "      <td>0.0</td>\n",
       "      <td>0.0</td>\n",
       "      <td>0.0</td>\n",
       "      <td>0.0</td>\n",
       "      <td>0.0</td>\n",
       "      <td>0.0</td>\n",
       "    </tr>\n",
       "    <tr>\n",
       "      <th>105</th>\n",
       "      <td>3.800000</td>\n",
       "      <td>18.000000</td>\n",
       "      <td>12.6</td>\n",
       "      <td>0.0</td>\n",
       "      <td>0.0</td>\n",
       "      <td>1.0</td>\n",
       "      <td>3.0</td>\n",
       "      <td>16</td>\n",
       "      <td>0</td>\n",
       "      <td>0</td>\n",
       "      <td>...</td>\n",
       "      <td>0.0</td>\n",
       "      <td>0.0</td>\n",
       "      <td>1.0</td>\n",
       "      <td>0.0</td>\n",
       "      <td>0.0</td>\n",
       "      <td>0.0</td>\n",
       "      <td>0.0</td>\n",
       "      <td>0.0</td>\n",
       "      <td>0.0</td>\n",
       "      <td>0.0</td>\n",
       "    </tr>\n",
       "    <tr>\n",
       "      <th>106</th>\n",
       "      <td>3.468750</td>\n",
       "      <td>12.800000</td>\n",
       "      <td>8.8</td>\n",
       "      <td>16.0</td>\n",
       "      <td>0.0</td>\n",
       "      <td>1.0</td>\n",
       "      <td>10.0</td>\n",
       "      <td>16</td>\n",
       "      <td>0</td>\n",
       "      <td>0</td>\n",
       "      <td>...</td>\n",
       "      <td>0.0</td>\n",
       "      <td>1.0</td>\n",
       "      <td>0.0</td>\n",
       "      <td>0.0</td>\n",
       "      <td>0.0</td>\n",
       "      <td>0.0</td>\n",
       "      <td>0.0</td>\n",
       "      <td>0.0</td>\n",
       "      <td>0.0</td>\n",
       "      <td>0.0</td>\n",
       "    </tr>\n",
       "    <tr>\n",
       "      <th>107</th>\n",
       "      <td>0.200000</td>\n",
       "      <td>9.800000</td>\n",
       "      <td>2.8</td>\n",
       "      <td>0.0</td>\n",
       "      <td>0.0</td>\n",
       "      <td>0.0</td>\n",
       "      <td>0.0</td>\n",
       "      <td>4</td>\n",
       "      <td>0</td>\n",
       "      <td>0</td>\n",
       "      <td>...</td>\n",
       "      <td>0.0</td>\n",
       "      <td>0.0</td>\n",
       "      <td>0.0</td>\n",
       "      <td>0.0</td>\n",
       "      <td>0.0</td>\n",
       "      <td>0.0</td>\n",
       "      <td>0.0</td>\n",
       "      <td>0.0</td>\n",
       "      <td>0.0</td>\n",
       "      <td>0.0</td>\n",
       "    </tr>\n",
       "    <tr>\n",
       "      <th>108</th>\n",
       "      <td>0.240000</td>\n",
       "      <td>12.666667</td>\n",
       "      <td>1.0</td>\n",
       "      <td>7.0</td>\n",
       "      <td>0.0</td>\n",
       "      <td>0.0</td>\n",
       "      <td>0.0</td>\n",
       "      <td>10</td>\n",
       "      <td>0</td>\n",
       "      <td>0</td>\n",
       "      <td>...</td>\n",
       "      <td>0.0</td>\n",
       "      <td>0.0</td>\n",
       "      <td>0.0</td>\n",
       "      <td>0.0</td>\n",
       "      <td>0.0</td>\n",
       "      <td>0.0</td>\n",
       "      <td>0.0</td>\n",
       "      <td>0.0</td>\n",
       "      <td>0.0</td>\n",
       "      <td>0.0</td>\n",
       "    </tr>\n",
       "  </tbody>\n",
       "</table>\n",
       "<p>105 rows × 54 columns</p>\n",
       "</div>"
      ],
      "text/plain": [
       "         평균시청률      배우_방송  배우_영화  연출_드라마  연출_영화  작가_드라마  작가_영화   부작  요일시간_10C  \\\n",
       "0     7.283333  17.400000    5.4    13.0    1.0     0.0    0.0  123         0   \n",
       "1    20.516667  20.800000    3.4     4.0    1.0     0.0    0.0  124         0   \n",
       "2    39.276667  20.400000    3.8    15.0    0.0     7.0    0.0  106         0   \n",
       "3    13.420000  41.800000    8.4     5.0    0.0     5.0    0.0   80         0   \n",
       "4    13.906667  21.200000    8.8    12.0    0.0    13.0    0.0   52         0   \n",
       "..         ...        ...    ...     ...    ...     ...    ...  ...       ...   \n",
       "104   4.012500  24.200000    4.4     7.0    0.0     0.0    0.0   16         0   \n",
       "105   3.800000  18.000000   12.6     0.0    0.0     1.0    3.0   16         0   \n",
       "106   3.468750  12.800000    8.8    16.0    0.0     1.0   10.0   16         0   \n",
       "107   0.200000   9.800000    2.8     0.0    0.0     0.0    0.0    4         0   \n",
       "108   0.240000  12.666667    1.0     7.0    0.0     0.0    0.0   10         0   \n",
       "\n",
       "     요일시간_11C  ...  genre_사극  genre_서스펜스  genre_스릴러  genre_액션  genre_청춘  \\\n",
       "0           0  ...       0.0         0.0        0.0       0.0       0.0   \n",
       "1           0  ...       0.0         0.0        0.0       0.0       0.0   \n",
       "2           0  ...       0.0         0.0        0.0       0.0       0.0   \n",
       "3           0  ...       0.0         0.0        0.0       0.0       0.0   \n",
       "4           0  ...       1.0         1.0        0.0       0.0       0.0   \n",
       "..        ...  ...       ...         ...        ...       ...       ...   \n",
       "104         0  ...       0.0         0.0        0.0       0.0       0.0   \n",
       "105         0  ...       0.0         0.0        1.0       0.0       0.0   \n",
       "106         0  ...       0.0         1.0        0.0       0.0       0.0   \n",
       "107         0  ...       0.0         0.0        0.0       0.0       0.0   \n",
       "108         0  ...       0.0         0.0        0.0       0.0       0.0   \n",
       "\n",
       "     genre_추리  genre_코메디  genre_판타지  genre_하이틴  genre_휴먼  \n",
       "0         0.0        0.0        0.0        0.0       0.0  \n",
       "1         0.0        0.0        0.0        0.0       0.0  \n",
       "2         0.0        1.0        0.0        0.0       0.0  \n",
       "3         0.0        0.0        0.0        0.0       0.0  \n",
       "4         0.0        0.0        0.0        0.0       0.0  \n",
       "..        ...        ...        ...        ...       ...  \n",
       "104       0.0        0.0        0.0        0.0       0.0  \n",
       "105       0.0        0.0        0.0        0.0       0.0  \n",
       "106       0.0        0.0        0.0        0.0       0.0  \n",
       "107       0.0        0.0        0.0        0.0       0.0  \n",
       "108       0.0        0.0        0.0        0.0       0.0  \n",
       "\n",
       "[105 rows x 54 columns]"
      ]
     },
     "execution_count": 167,
     "metadata": {},
     "output_type": "execute_result"
    }
   ],
   "source": [
    "drama_mat"
   ]
  },
  {
   "cell_type": "markdown",
   "metadata": {},
   "source": [
    "### 모델링\n",
    "- linear regression\n",
    "- random forest\n",
    "- xgboosting"
   ]
  },
  {
   "cell_type": "code",
   "execution_count": 265,
   "metadata": {},
   "outputs": [],
   "source": [
    "from sklearn.linear_model import LinearRegression\n",
    "from sklearn.ensemble import RandomForestRegressor \n",
    "from sklearn.tree import DecisionTreeRegressor\n",
    "# import xgboost as xgb\n",
    "from sklearn import ensemble\n",
    "from sklearn.model_selection import train_test_split\n",
    "from sklearn.model_selection import KFold\n",
    "from sklearn.model_selection import cross_val_score\n",
    "from sklearn.metrics import mean_squared_error\n",
    "import math\n",
    "import seaborn as sns\n",
    "import matplotlib as mpl\n",
    "\n",
    "plt.style.use(['seaborn-whitegrid'])\n",
    "%matplotlib inline\n",
    "#  한글글꼴로 변경\n",
    "plt.rcParams['font.size'] = 12.0\n",
    "plt.rcParams['font.family'] = 'Malgun Gothic'\n",
    "# 음수 표시 에러 \n",
    "mpl.rcParams['axes.unicode_minus'] = False"
   ]
  },
  {
   "cell_type": "code",
   "execution_count": 156,
   "metadata": {},
   "outputs": [],
   "source": [
    "# drama_mat.info()\n",
    "drama_mat['평균시청률'] = drama_mat['평균시청률'].astype(float)"
   ]
  },
  {
   "cell_type": "code",
   "execution_count": 157,
   "metadata": {},
   "outputs": [],
   "source": [
    "X = drama_mat.iloc[:,1:]\n",
    "y = drama_mat.iloc[:,0]"
   ]
  },
  {
   "cell_type": "code",
   "execution_count": 158,
   "metadata": {},
   "outputs": [],
   "source": [
    "# train / test set\n",
    "X_train, X_test, y_train, y_test = train_test_split(X, y, test_size=0.2)"
   ]
  },
  {
   "cell_type": "code",
   "execution_count": 159,
   "metadata": {},
   "outputs": [
    {
     "data": {
      "text/plain": [
       "GradientBoostingRegressor(max_depth=1, n_estimators=500, random_state=0)"
      ]
     },
     "execution_count": 159,
     "metadata": {},
     "output_type": "execute_result"
    }
   ],
   "source": [
    "# linear regression\n",
    "# reg = linear_model.LinearRegression()\n",
    "# reg.fit(X=X_train,y=y_train)\n",
    "# # DecisionTree\n",
    "# dt = DecisionTreeRegressor(random_state=20)\n",
    "# dt.fit(X=X_train,y=y_train)\n",
    "# RandomForest\n",
    "# rf = RandomForestRegressor(n_estimators=100,n_jobs=-1,random_state=100)\n",
    "# rf.fit(X=X_train,y=y_train)\n",
    "# Grandient Boosting\n",
    "gb_reg = ensemble.GradientBoostingRegressor(random_state=0, max_depth=1,n_estimators=500,loss='ls')\n",
    "gb_reg.fit(X_train,y_train)\n",
    "# XGBoosting\n",
    "# xgb_reg = xgb.XGBRegressor(objective ='reg:linear', colsample_bytree = 0.3, learning_rate = 0.1,\n",
    "#                 max_depth = 5, alpha = 10, n_estimators = 10)\n",
    "# xgb_reg.fit(X_train,y_train)"
   ]
  },
  {
   "cell_type": "code",
   "execution_count": 160,
   "metadata": {},
   "outputs": [
    {
     "data": {
      "text/plain": [
       "0.948549265515979"
      ]
     },
     "execution_count": 160,
     "metadata": {},
     "output_type": "execute_result"
    }
   ],
   "source": [
    "# model score\n",
    "# print(reg.score(X_train, y_train))\n",
    "# print(dt.score(X_train, y_train))\n",
    "# print(rf.score(X_train, y_train))\n",
    "gb_reg.score(X_train, y_train)\n",
    "# xgb_reg.score(X_train, y_train)"
   ]
  },
  {
   "cell_type": "code",
   "execution_count": 161,
   "metadata": {},
   "outputs": [],
   "source": [
    "# k_fold = KFold(n_splits=10, shuffle=True, random_state=0)\n",
    "# score = cross_val_score(rf,X_train,y_train,cv=5)\n",
    "# score"
   ]
  },
  {
   "cell_type": "code",
   "execution_count": 168,
   "metadata": {},
   "outputs": [],
   "source": [
    "# 예측\n",
    "# reg_pred_value = reg.predict(X_test)\n",
    "# dt_pred_value = dt.predict(X_test)\n",
    "# rf_pred_value = rf.predict(X_test)\n",
    "# xgb_reg_pred_value = xgb_reg.predict(X_test)\n",
    "gb_reg_pred_value = gb_reg.predict(X_test)\n"
   ]
  },
  {
   "cell_type": "code",
   "execution_count": 163,
   "metadata": {},
   "outputs": [
    {
     "data": {
      "text/plain": [
       "2.3943568717081534"
      ]
     },
     "execution_count": 163,
     "metadata": {},
     "output_type": "execute_result"
    }
   ],
   "source": [
    "# 측정 : RMSE (Root Mean Squred Error)\n",
    "# reg_RMSE = math.sqrt(mean_squared_error(y_test, reg_pred_value))\n",
    "# dt_RMSE = math.sqrt(mean_squared_error(y_test, dt_pred_value))\n",
    "# rf_RMSE = math.sqrt(mean_squared_error(y_test, rf_pred_value))\n",
    "# xgb_reg_RMSE = math.sqrt(mean_squared_error(y_test, xgb_reg_pred_value))\n",
    "gb_reg_RMSE = math.sqrt(mean_squared_error(y_test, gb_reg_pred_value))\n",
    "gb_reg_RMSE"
   ]
  },
  {
   "cell_type": "code",
   "execution_count": null,
   "metadata": {},
   "outputs": [],
   "source": []
  },
  {
   "cell_type": "code",
   "execution_count": null,
   "metadata": {},
   "outputs": [],
   "source": []
  },
  {
   "cell_type": "code",
   "execution_count": 166,
   "metadata": {},
   "outputs": [
    {
     "data": {
      "image/png": "[encoded data removed]",
      "text/plain": [
       "<Figure size 576x1296 with 1 Axes>"
      ]
     },
     "metadata": {
      "needs_background": "light"
     },
     "output_type": "display_data"
    }
   ],
   "source": [
    "# RandomForest\n",
    "feature_importance = rf.feature_importances_\n",
    "# make importances relative to max importance\n",
    "feature_importance = 100.0 * (feature_importance / feature_importance.max())\n",
    "sorted_idx = np.argsort(feature_importance)\n",
    "pos = np.arange(sorted_idx.shape[0]) + .5\n",
    "# plt.subplot(1, 2, 2)\n",
    "plt.figure(figsize=(8, 18))\n",
    "plt.barh(pos, feature_importance[sorted_idx], align='center')\n",
    "plt.yticks(pos, X_train.keys()[sorted_idx])\n",
    "plt.xlabel('Relative Importance')\n",
    "plt.title('Variable Importance')\n",
    "plt.show()"
   ]
  },
  {
   "cell_type": "code",
   "execution_count": 164,
   "metadata": {},
   "outputs": [
    {
     "data": {
      "image/png": "[encoded data removed]",
      "text/plain": [
       "<Figure size 576x1296 with 1 Axes>"
      ]
     },
     "metadata": {
      "needs_background": "light"
     },
     "output_type": "display_data"
    }
   ],
   "source": [
    "# gradient boosting\n",
    "feature_importance = gb_reg.feature_importances_\n",
    "# make importances relative to max importance\n",
    "feature_importance = 100.0 * (feature_importance / feature_importance.max())\n",
    "sorted_idx = np.argsort(feature_importance)\n",
    "pos = np.arange(sorted_idx.shape[0]) + .5\n",
    "# plt.subplot(1, 2, 2)\n",
    "plt.figure(figsize=(8, 18))\n",
    "plt.barh(pos, feature_importance[sorted_idx], align='center')\n",
    "plt.yticks(pos, X_train.keys()[sorted_idx])\n",
    "plt.xlabel('Relative Importance')\n",
    "plt.title('Variable Importance')\n",
    "plt.show()"
   ]
  },
  {
   "cell_type": "code",
   "execution_count": null,
   "metadata": {},
   "outputs": [],
   "source": [
    "# 데이터 수가 너무 적음 : MSE 큰 값의 원인\n"
   ]
  },
  {
   "cell_type": "code",
   "execution_count": 462,
   "metadata": {},
   "outputs": [],
   "source": [
    "from sklearn.metrics import make_scorer\n",
    "\n",
    "def rmsle(predicted_values, actual_values):\n",
    "    # 넘파이로 배열 형태로 바꿔준다.\n",
    "    predicted_values = np.array(predicted_values)\n",
    "    actual_values = np.array(actual_values)\n",
    "\n",
    "    # 예측값과 실제 값에 1을 더하고 로그를 씌워준다.\n",
    "    log_predict = np.log(predicted_values + 1)\n",
    "    log_actual = np.log(actual_values + 1)\n",
    "\n",
    "    # 위에서 계산한 예측값에서 실제값을 빼주고 제곱을 해준다.\n",
    "    difference = log_predict - log_actual\n",
    "    # difference = (log_predict - log_actual) ** 2\n",
    "    difference = np.square(difference)\n",
    "\n",
    "    # 평균을 낸다.\n",
    "    mean_difference = difference.mean()\n",
    "\n",
    "    # 다시 루트를 씌운다.\n",
    "    score = np.sqrt(mean_difference)\n",
    "\n",
    "    return score\n",
    "rmsle_scorer = make_scorer(rmsle)"
   ]
  }
 ],
 "metadata": {
  "kernelspec": {
   "display_name": "Python 3",
   "language": "python",
   "name": "python3"
  },
  "language_info": {
   "codemirror_mode": {
    "name": "ipython",
    "version": 3
   },
   "file_extension": ".py",
   "mimetype": "text/x-python",
   "name": "python",
   "nbconvert_exporter": "python",
   "pygments_lexer": "ipython3",
   "version": "3.8.5"
  }
 },
 "nbformat": 4,
 "nbformat_minor": 4
}
